{
 "cells": [
  {
   "cell_type": "code",
   "execution_count": 1,
   "id": "37c4fac7",
   "metadata": {},
   "outputs": [],
   "source": [
    "import pandas as pd\n",
    "import matplotlib.pyplot as plt\n",
    "%matplotlib inline\n",
    "import seaborn as sns"
   ]
  },
  {
   "cell_type": "code",
   "execution_count": 2,
   "id": "a9857920",
   "metadata": {},
   "outputs": [],
   "source": [
    "df = pd.read_csv(\"C:/Users/Pritam Laskar/Documents/PGCM - DA/Term II/Term II Study Materials/204 ML Plus/Logistic Regression Case/ML+01+Logistic+Regession+Dataset+1.csv\")"
   ]
  },
  {
   "cell_type": "code",
   "execution_count": 3,
   "id": "d85e5c17",
   "metadata": {},
   "outputs": [
    {
     "data": {
      "text/html": [
       "<div>\n",
       "<style scoped>\n",
       "    .dataframe tbody tr th:only-of-type {\n",
       "        vertical-align: middle;\n",
       "    }\n",
       "\n",
       "    .dataframe tbody tr th {\n",
       "        vertical-align: top;\n",
       "    }\n",
       "\n",
       "    .dataframe thead th {\n",
       "        text-align: right;\n",
       "    }\n",
       "</style>\n",
       "<table border=\"1\" class=\"dataframe\">\n",
       "  <thead>\n",
       "    <tr style=\"text-align: right;\">\n",
       "      <th></th>\n",
       "      <th>Id</th>\n",
       "      <th>Age</th>\n",
       "      <th>Job</th>\n",
       "      <th>Marital</th>\n",
       "      <th>Education</th>\n",
       "      <th>Default</th>\n",
       "      <th>Balance</th>\n",
       "      <th>HHInsurance</th>\n",
       "      <th>CarLoan</th>\n",
       "      <th>Communication</th>\n",
       "      <th>LastContactDay</th>\n",
       "      <th>LastContactMonth</th>\n",
       "      <th>NoOfContacts</th>\n",
       "      <th>DaysPassed</th>\n",
       "      <th>PrevAttempts</th>\n",
       "      <th>Outcome</th>\n",
       "      <th>CallStart</th>\n",
       "      <th>CallEnd</th>\n",
       "      <th>CarInsurance</th>\n",
       "    </tr>\n",
       "  </thead>\n",
       "  <tbody>\n",
       "    <tr>\n",
       "      <th>0</th>\n",
       "      <td>1</td>\n",
       "      <td>32</td>\n",
       "      <td>management</td>\n",
       "      <td>single</td>\n",
       "      <td>tertiary</td>\n",
       "      <td>0</td>\n",
       "      <td>1218</td>\n",
       "      <td>1</td>\n",
       "      <td>0</td>\n",
       "      <td>telephone</td>\n",
       "      <td>28</td>\n",
       "      <td>jan</td>\n",
       "      <td>2</td>\n",
       "      <td>-1</td>\n",
       "      <td>0</td>\n",
       "      <td>NaN</td>\n",
       "      <td>13:45:20</td>\n",
       "      <td>13:46:30</td>\n",
       "      <td>0</td>\n",
       "    </tr>\n",
       "    <tr>\n",
       "      <th>1</th>\n",
       "      <td>2</td>\n",
       "      <td>32</td>\n",
       "      <td>blue-collar</td>\n",
       "      <td>married</td>\n",
       "      <td>primary</td>\n",
       "      <td>0</td>\n",
       "      <td>1156</td>\n",
       "      <td>1</td>\n",
       "      <td>0</td>\n",
       "      <td>NaN</td>\n",
       "      <td>26</td>\n",
       "      <td>may</td>\n",
       "      <td>5</td>\n",
       "      <td>-1</td>\n",
       "      <td>0</td>\n",
       "      <td>NaN</td>\n",
       "      <td>14:49:03</td>\n",
       "      <td>14:52:08</td>\n",
       "      <td>0</td>\n",
       "    </tr>\n",
       "    <tr>\n",
       "      <th>2</th>\n",
       "      <td>3</td>\n",
       "      <td>29</td>\n",
       "      <td>management</td>\n",
       "      <td>single</td>\n",
       "      <td>tertiary</td>\n",
       "      <td>0</td>\n",
       "      <td>637</td>\n",
       "      <td>1</td>\n",
       "      <td>0</td>\n",
       "      <td>cellular</td>\n",
       "      <td>3</td>\n",
       "      <td>jun</td>\n",
       "      <td>1</td>\n",
       "      <td>119</td>\n",
       "      <td>1</td>\n",
       "      <td>failure</td>\n",
       "      <td>16:30:24</td>\n",
       "      <td>16:36:04</td>\n",
       "      <td>1</td>\n",
       "    </tr>\n",
       "    <tr>\n",
       "      <th>3</th>\n",
       "      <td>4</td>\n",
       "      <td>25</td>\n",
       "      <td>student</td>\n",
       "      <td>single</td>\n",
       "      <td>primary</td>\n",
       "      <td>0</td>\n",
       "      <td>373</td>\n",
       "      <td>1</td>\n",
       "      <td>0</td>\n",
       "      <td>cellular</td>\n",
       "      <td>11</td>\n",
       "      <td>may</td>\n",
       "      <td>2</td>\n",
       "      <td>-1</td>\n",
       "      <td>0</td>\n",
       "      <td>NaN</td>\n",
       "      <td>12:06:43</td>\n",
       "      <td>12:20:22</td>\n",
       "      <td>1</td>\n",
       "    </tr>\n",
       "    <tr>\n",
       "      <th>4</th>\n",
       "      <td>5</td>\n",
       "      <td>30</td>\n",
       "      <td>management</td>\n",
       "      <td>married</td>\n",
       "      <td>tertiary</td>\n",
       "      <td>0</td>\n",
       "      <td>2694</td>\n",
       "      <td>0</td>\n",
       "      <td>0</td>\n",
       "      <td>cellular</td>\n",
       "      <td>3</td>\n",
       "      <td>jun</td>\n",
       "      <td>1</td>\n",
       "      <td>-1</td>\n",
       "      <td>0</td>\n",
       "      <td>NaN</td>\n",
       "      <td>14:35:44</td>\n",
       "      <td>14:38:56</td>\n",
       "      <td>0</td>\n",
       "    </tr>\n",
       "    <tr>\n",
       "      <th>...</th>\n",
       "      <td>...</td>\n",
       "      <td>...</td>\n",
       "      <td>...</td>\n",
       "      <td>...</td>\n",
       "      <td>...</td>\n",
       "      <td>...</td>\n",
       "      <td>...</td>\n",
       "      <td>...</td>\n",
       "      <td>...</td>\n",
       "      <td>...</td>\n",
       "      <td>...</td>\n",
       "      <td>...</td>\n",
       "      <td>...</td>\n",
       "      <td>...</td>\n",
       "      <td>...</td>\n",
       "      <td>...</td>\n",
       "      <td>...</td>\n",
       "      <td>...</td>\n",
       "      <td>...</td>\n",
       "    </tr>\n",
       "    <tr>\n",
       "      <th>3995</th>\n",
       "      <td>3996</td>\n",
       "      <td>28</td>\n",
       "      <td>technician</td>\n",
       "      <td>single</td>\n",
       "      <td>tertiary</td>\n",
       "      <td>0</td>\n",
       "      <td>0</td>\n",
       "      <td>1</td>\n",
       "      <td>0</td>\n",
       "      <td>cellular</td>\n",
       "      <td>25</td>\n",
       "      <td>may</td>\n",
       "      <td>1</td>\n",
       "      <td>40</td>\n",
       "      <td>2</td>\n",
       "      <td>failure</td>\n",
       "      <td>17:46:28</td>\n",
       "      <td>17:50:57</td>\n",
       "      <td>1</td>\n",
       "    </tr>\n",
       "    <tr>\n",
       "      <th>3996</th>\n",
       "      <td>3997</td>\n",
       "      <td>49</td>\n",
       "      <td>admin.</td>\n",
       "      <td>divorced</td>\n",
       "      <td>secondary</td>\n",
       "      <td>0</td>\n",
       "      <td>124</td>\n",
       "      <td>1</td>\n",
       "      <td>1</td>\n",
       "      <td>cellular</td>\n",
       "      <td>29</td>\n",
       "      <td>jul</td>\n",
       "      <td>19</td>\n",
       "      <td>-1</td>\n",
       "      <td>0</td>\n",
       "      <td>NaN</td>\n",
       "      <td>14:49:16</td>\n",
       "      <td>14:51:21</td>\n",
       "      <td>0</td>\n",
       "    </tr>\n",
       "    <tr>\n",
       "      <th>3997</th>\n",
       "      <td>3998</td>\n",
       "      <td>27</td>\n",
       "      <td>admin.</td>\n",
       "      <td>single</td>\n",
       "      <td>secondary</td>\n",
       "      <td>0</td>\n",
       "      <td>-400</td>\n",
       "      <td>0</td>\n",
       "      <td>1</td>\n",
       "      <td>cellular</td>\n",
       "      <td>8</td>\n",
       "      <td>jul</td>\n",
       "      <td>1</td>\n",
       "      <td>-1</td>\n",
       "      <td>0</td>\n",
       "      <td>NaN</td>\n",
       "      <td>12:19:03</td>\n",
       "      <td>12:23:53</td>\n",
       "      <td>0</td>\n",
       "    </tr>\n",
       "    <tr>\n",
       "      <th>3998</th>\n",
       "      <td>3999</td>\n",
       "      <td>36</td>\n",
       "      <td>entrepreneur</td>\n",
       "      <td>single</td>\n",
       "      <td>tertiary</td>\n",
       "      <td>0</td>\n",
       "      <td>658</td>\n",
       "      <td>1</td>\n",
       "      <td>0</td>\n",
       "      <td>cellular</td>\n",
       "      <td>29</td>\n",
       "      <td>jan</td>\n",
       "      <td>1</td>\n",
       "      <td>227</td>\n",
       "      <td>3</td>\n",
       "      <td>failure</td>\n",
       "      <td>11:27:35</td>\n",
       "      <td>11:29:14</td>\n",
       "      <td>0</td>\n",
       "    </tr>\n",
       "    <tr>\n",
       "      <th>3999</th>\n",
       "      <td>4000</td>\n",
       "      <td>45</td>\n",
       "      <td>services</td>\n",
       "      <td>married</td>\n",
       "      <td>primary</td>\n",
       "      <td>0</td>\n",
       "      <td>137</td>\n",
       "      <td>1</td>\n",
       "      <td>0</td>\n",
       "      <td>NaN</td>\n",
       "      <td>9</td>\n",
       "      <td>may</td>\n",
       "      <td>2</td>\n",
       "      <td>-1</td>\n",
       "      <td>0</td>\n",
       "      <td>NaN</td>\n",
       "      <td>13:31:48</td>\n",
       "      <td>13:36:22</td>\n",
       "      <td>0</td>\n",
       "    </tr>\n",
       "  </tbody>\n",
       "</table>\n",
       "<p>4000 rows × 19 columns</p>\n",
       "</div>"
      ],
      "text/plain": [
       "        Id  Age           Job   Marital  Education  Default  Balance  \\\n",
       "0        1   32    management    single   tertiary        0     1218   \n",
       "1        2   32   blue-collar   married    primary        0     1156   \n",
       "2        3   29    management    single   tertiary        0      637   \n",
       "3        4   25       student    single    primary        0      373   \n",
       "4        5   30    management   married   tertiary        0     2694   \n",
       "...    ...  ...           ...       ...        ...      ...      ...   \n",
       "3995  3996   28    technician    single   tertiary        0        0   \n",
       "3996  3997   49        admin.  divorced  secondary        0      124   \n",
       "3997  3998   27        admin.    single  secondary        0     -400   \n",
       "3998  3999   36  entrepreneur    single   tertiary        0      658   \n",
       "3999  4000   45      services   married    primary        0      137   \n",
       "\n",
       "      HHInsurance  CarLoan Communication  LastContactDay LastContactMonth  \\\n",
       "0               1        0     telephone              28              jan   \n",
       "1               1        0           NaN              26              may   \n",
       "2               1        0      cellular               3              jun   \n",
       "3               1        0      cellular              11              may   \n",
       "4               0        0      cellular               3              jun   \n",
       "...           ...      ...           ...             ...              ...   \n",
       "3995            1        0      cellular              25              may   \n",
       "3996            1        1      cellular              29              jul   \n",
       "3997            0        1      cellular               8              jul   \n",
       "3998            1        0      cellular              29              jan   \n",
       "3999            1        0           NaN               9              may   \n",
       "\n",
       "      NoOfContacts  DaysPassed  PrevAttempts  Outcome CallStart   CallEnd  \\\n",
       "0                2          -1             0      NaN  13:45:20  13:46:30   \n",
       "1                5          -1             0      NaN  14:49:03  14:52:08   \n",
       "2                1         119             1  failure  16:30:24  16:36:04   \n",
       "3                2          -1             0      NaN  12:06:43  12:20:22   \n",
       "4                1          -1             0      NaN  14:35:44  14:38:56   \n",
       "...            ...         ...           ...      ...       ...       ...   \n",
       "3995             1          40             2  failure  17:46:28  17:50:57   \n",
       "3996            19          -1             0      NaN  14:49:16  14:51:21   \n",
       "3997             1          -1             0      NaN  12:19:03  12:23:53   \n",
       "3998             1         227             3  failure  11:27:35  11:29:14   \n",
       "3999             2          -1             0      NaN  13:31:48  13:36:22   \n",
       "\n",
       "      CarInsurance  \n",
       "0                0  \n",
       "1                0  \n",
       "2                1  \n",
       "3                1  \n",
       "4                0  \n",
       "...            ...  \n",
       "3995             1  \n",
       "3996             0  \n",
       "3997             0  \n",
       "3998             0  \n",
       "3999             0  \n",
       "\n",
       "[4000 rows x 19 columns]"
      ]
     },
     "execution_count": 3,
     "metadata": {},
     "output_type": "execute_result"
    }
   ],
   "source": [
    "df"
   ]
  },
  {
   "cell_type": "markdown",
   "id": "378f33f5",
   "metadata": {},
   "source": [
    "# EDA"
   ]
  },
  {
   "cell_type": "code",
   "execution_count": 4,
   "id": "0d19afc6",
   "metadata": {},
   "outputs": [
    {
     "data": {
      "text/plain": [
       "(4000, 19)"
      ]
     },
     "execution_count": 4,
     "metadata": {},
     "output_type": "execute_result"
    }
   ],
   "source": [
    "df.shape"
   ]
  },
  {
   "cell_type": "code",
   "execution_count": 5,
   "id": "1412c191",
   "metadata": {},
   "outputs": [
    {
     "name": "stdout",
     "output_type": "stream",
     "text": [
      "<class 'pandas.core.frame.DataFrame'>\n",
      "RangeIndex: 4000 entries, 0 to 3999\n",
      "Data columns (total 19 columns):\n",
      " #   Column            Non-Null Count  Dtype \n",
      "---  ------            --------------  ----- \n",
      " 0   Id                4000 non-null   int64 \n",
      " 1   Age               4000 non-null   int64 \n",
      " 2   Job               3981 non-null   object\n",
      " 3   Marital           4000 non-null   object\n",
      " 4   Education         3831 non-null   object\n",
      " 5   Default           4000 non-null   int64 \n",
      " 6   Balance           4000 non-null   int64 \n",
      " 7   HHInsurance       4000 non-null   int64 \n",
      " 8   CarLoan           4000 non-null   int64 \n",
      " 9   Communication     3098 non-null   object\n",
      " 10  LastContactDay    4000 non-null   int64 \n",
      " 11  LastContactMonth  4000 non-null   object\n",
      " 12  NoOfContacts      4000 non-null   int64 \n",
      " 13  DaysPassed        4000 non-null   int64 \n",
      " 14  PrevAttempts      4000 non-null   int64 \n",
      " 15  Outcome           958 non-null    object\n",
      " 16  CallStart         4000 non-null   object\n",
      " 17  CallEnd           4000 non-null   object\n",
      " 18  CarInsurance      4000 non-null   int64 \n",
      "dtypes: int64(11), object(8)\n",
      "memory usage: 593.9+ KB\n"
     ]
    }
   ],
   "source": [
    "df.info()"
   ]
  },
  {
   "cell_type": "code",
   "execution_count": 6,
   "id": "ca719f5c",
   "metadata": {},
   "outputs": [
    {
     "data": {
      "text/plain": [
       "0"
      ]
     },
     "execution_count": 6,
     "metadata": {},
     "output_type": "execute_result"
    }
   ],
   "source": [
    "df.duplicated().sum()"
   ]
  },
  {
   "cell_type": "code",
   "execution_count": 7,
   "id": "f4b4ddca",
   "metadata": {},
   "outputs": [],
   "source": [
    "df.drop(['Id'], axis = 1, inplace = True)"
   ]
  },
  {
   "cell_type": "code",
   "execution_count": 8,
   "id": "07698349",
   "metadata": {},
   "outputs": [
    {
     "data": {
      "text/plain": [
       "Age                  0.000\n",
       "Job                  0.475\n",
       "Marital              0.000\n",
       "Education            4.225\n",
       "Default              0.000\n",
       "Balance              0.000\n",
       "HHInsurance          0.000\n",
       "CarLoan              0.000\n",
       "Communication       22.550\n",
       "LastContactDay       0.000\n",
       "LastContactMonth     0.000\n",
       "NoOfContacts         0.000\n",
       "DaysPassed           0.000\n",
       "PrevAttempts         0.000\n",
       "Outcome             76.050\n",
       "CallStart            0.000\n",
       "CallEnd              0.000\n",
       "CarInsurance         0.000\n",
       "dtype: float64"
      ]
     },
     "execution_count": 8,
     "metadata": {},
     "output_type": "execute_result"
    }
   ],
   "source": [
    "(df.isnull().sum()/len(df))*100"
   ]
  },
  {
   "cell_type": "code",
   "execution_count": 9,
   "id": "4b0d32b1",
   "metadata": {},
   "outputs": [],
   "source": [
    "df.drop(['Outcome'], axis = 1, inplace = True)\n",
    "\n",
    "# As Outcome has null values > 30%, we will drop them"
   ]
  },
  {
   "cell_type": "code",
   "execution_count": 10,
   "id": "b5669aa5",
   "metadata": {},
   "outputs": [
    {
     "data": {
      "text/html": [
       "<div>\n",
       "<style scoped>\n",
       "    .dataframe tbody tr th:only-of-type {\n",
       "        vertical-align: middle;\n",
       "    }\n",
       "\n",
       "    .dataframe tbody tr th {\n",
       "        vertical-align: top;\n",
       "    }\n",
       "\n",
       "    .dataframe thead th {\n",
       "        text-align: right;\n",
       "    }\n",
       "</style>\n",
       "<table border=\"1\" class=\"dataframe\">\n",
       "  <thead>\n",
       "    <tr style=\"text-align: right;\">\n",
       "      <th></th>\n",
       "      <th>Age</th>\n",
       "      <th>Default</th>\n",
       "      <th>Balance</th>\n",
       "      <th>HHInsurance</th>\n",
       "      <th>CarLoan</th>\n",
       "      <th>LastContactDay</th>\n",
       "      <th>NoOfContacts</th>\n",
       "      <th>DaysPassed</th>\n",
       "      <th>PrevAttempts</th>\n",
       "      <th>CarInsurance</th>\n",
       "    </tr>\n",
       "  </thead>\n",
       "  <tbody>\n",
       "    <tr>\n",
       "      <th>count</th>\n",
       "      <td>4000.000000</td>\n",
       "      <td>4000.000000</td>\n",
       "      <td>4000.000000</td>\n",
       "      <td>4000.00000</td>\n",
       "      <td>4000.000000</td>\n",
       "      <td>4000.000000</td>\n",
       "      <td>4000.000000</td>\n",
       "      <td>4000.000000</td>\n",
       "      <td>4000.000000</td>\n",
       "      <td>4000.000000</td>\n",
       "    </tr>\n",
       "    <tr>\n",
       "      <th>mean</th>\n",
       "      <td>41.214750</td>\n",
       "      <td>0.014500</td>\n",
       "      <td>1532.937250</td>\n",
       "      <td>0.49275</td>\n",
       "      <td>0.133000</td>\n",
       "      <td>15.721250</td>\n",
       "      <td>2.607250</td>\n",
       "      <td>48.706500</td>\n",
       "      <td>0.717500</td>\n",
       "      <td>0.401000</td>\n",
       "    </tr>\n",
       "    <tr>\n",
       "      <th>std</th>\n",
       "      <td>11.550194</td>\n",
       "      <td>0.119555</td>\n",
       "      <td>3511.452489</td>\n",
       "      <td>0.50001</td>\n",
       "      <td>0.339617</td>\n",
       "      <td>8.425307</td>\n",
       "      <td>3.064204</td>\n",
       "      <td>106.685385</td>\n",
       "      <td>2.078647</td>\n",
       "      <td>0.490162</td>\n",
       "    </tr>\n",
       "    <tr>\n",
       "      <th>min</th>\n",
       "      <td>18.000000</td>\n",
       "      <td>0.000000</td>\n",
       "      <td>-3058.000000</td>\n",
       "      <td>0.00000</td>\n",
       "      <td>0.000000</td>\n",
       "      <td>1.000000</td>\n",
       "      <td>1.000000</td>\n",
       "      <td>-1.000000</td>\n",
       "      <td>0.000000</td>\n",
       "      <td>0.000000</td>\n",
       "    </tr>\n",
       "    <tr>\n",
       "      <th>25%</th>\n",
       "      <td>32.000000</td>\n",
       "      <td>0.000000</td>\n",
       "      <td>111.000000</td>\n",
       "      <td>0.00000</td>\n",
       "      <td>0.000000</td>\n",
       "      <td>8.000000</td>\n",
       "      <td>1.000000</td>\n",
       "      <td>-1.000000</td>\n",
       "      <td>0.000000</td>\n",
       "      <td>0.000000</td>\n",
       "    </tr>\n",
       "    <tr>\n",
       "      <th>50%</th>\n",
       "      <td>39.000000</td>\n",
       "      <td>0.000000</td>\n",
       "      <td>551.500000</td>\n",
       "      <td>0.00000</td>\n",
       "      <td>0.000000</td>\n",
       "      <td>16.000000</td>\n",
       "      <td>2.000000</td>\n",
       "      <td>-1.000000</td>\n",
       "      <td>0.000000</td>\n",
       "      <td>0.000000</td>\n",
       "    </tr>\n",
       "    <tr>\n",
       "      <th>75%</th>\n",
       "      <td>49.000000</td>\n",
       "      <td>0.000000</td>\n",
       "      <td>1619.000000</td>\n",
       "      <td>1.00000</td>\n",
       "      <td>0.000000</td>\n",
       "      <td>22.000000</td>\n",
       "      <td>3.000000</td>\n",
       "      <td>-1.000000</td>\n",
       "      <td>0.000000</td>\n",
       "      <td>1.000000</td>\n",
       "    </tr>\n",
       "    <tr>\n",
       "      <th>max</th>\n",
       "      <td>95.000000</td>\n",
       "      <td>1.000000</td>\n",
       "      <td>98417.000000</td>\n",
       "      <td>1.00000</td>\n",
       "      <td>1.000000</td>\n",
       "      <td>31.000000</td>\n",
       "      <td>43.000000</td>\n",
       "      <td>854.000000</td>\n",
       "      <td>58.000000</td>\n",
       "      <td>1.000000</td>\n",
       "    </tr>\n",
       "  </tbody>\n",
       "</table>\n",
       "</div>"
      ],
      "text/plain": [
       "               Age      Default       Balance  HHInsurance      CarLoan  \\\n",
       "count  4000.000000  4000.000000   4000.000000   4000.00000  4000.000000   \n",
       "mean     41.214750     0.014500   1532.937250      0.49275     0.133000   \n",
       "std      11.550194     0.119555   3511.452489      0.50001     0.339617   \n",
       "min      18.000000     0.000000  -3058.000000      0.00000     0.000000   \n",
       "25%      32.000000     0.000000    111.000000      0.00000     0.000000   \n",
       "50%      39.000000     0.000000    551.500000      0.00000     0.000000   \n",
       "75%      49.000000     0.000000   1619.000000      1.00000     0.000000   \n",
       "max      95.000000     1.000000  98417.000000      1.00000     1.000000   \n",
       "\n",
       "       LastContactDay  NoOfContacts   DaysPassed  PrevAttempts  CarInsurance  \n",
       "count     4000.000000   4000.000000  4000.000000   4000.000000   4000.000000  \n",
       "mean        15.721250      2.607250    48.706500      0.717500      0.401000  \n",
       "std          8.425307      3.064204   106.685385      2.078647      0.490162  \n",
       "min          1.000000      1.000000    -1.000000      0.000000      0.000000  \n",
       "25%          8.000000      1.000000    -1.000000      0.000000      0.000000  \n",
       "50%         16.000000      2.000000    -1.000000      0.000000      0.000000  \n",
       "75%         22.000000      3.000000    -1.000000      0.000000      1.000000  \n",
       "max         31.000000     43.000000   854.000000     58.000000      1.000000  "
      ]
     },
     "execution_count": 10,
     "metadata": {},
     "output_type": "execute_result"
    }
   ],
   "source": [
    "df.describe()"
   ]
  },
  {
   "cell_type": "code",
   "execution_count": 11,
   "id": "e8eb8bd3",
   "metadata": {},
   "outputs": [
    {
     "data": {
      "text/plain": [
       "array(['management', 'blue-collar', 'student', 'technician', 'admin.',\n",
       "       'services', 'self-employed', 'retired', nan, 'housemaid',\n",
       "       'entrepreneur', 'unemployed'], dtype=object)"
      ]
     },
     "execution_count": 11,
     "metadata": {},
     "output_type": "execute_result"
    }
   ],
   "source": [
    "df['Job'].unique()"
   ]
  },
  {
   "cell_type": "code",
   "execution_count": 12,
   "id": "62a8ee3b",
   "metadata": {},
   "outputs": [
    {
     "data": {
      "text/plain": [
       "management       893\n",
       "blue-collar      759\n",
       "technician       660\n",
       "admin.           459\n",
       "services         330\n",
       "retired          249\n",
       "self-employed    140\n",
       "student          131\n",
       "unemployed       130\n",
       "entrepreneur     121\n",
       "housemaid        109\n",
       "Name: Job, dtype: int64"
      ]
     },
     "execution_count": 12,
     "metadata": {},
     "output_type": "execute_result"
    }
   ],
   "source": [
    "df['Job'].value_counts(ascending = False)"
   ]
  },
  {
   "cell_type": "code",
   "execution_count": 13,
   "id": "c77f72e0",
   "metadata": {},
   "outputs": [],
   "source": [
    "df['Job'] = df['Job'].fillna(df['Job'].mode())"
   ]
  },
  {
   "cell_type": "code",
   "execution_count": 14,
   "id": "4ee35e8b",
   "metadata": {},
   "outputs": [],
   "source": [
    "df['Job'].replace(to_replace = ['student', 'retired'], value = 'unemployed', inplace = True)\n",
    "df['Job'].replace(to_replace = ['entrepreneur'], value = 'self-employed', inplace = True)\n",
    "df['Job'].replace(to_replace = ['housemaid','technician'], value ='services', inplace = True)"
   ]
  },
  {
   "cell_type": "code",
   "execution_count": 15,
   "id": "c988063c",
   "metadata": {},
   "outputs": [
    {
     "data": {
      "text/plain": [
       "array(['tertiary', 'primary', 'secondary', nan], dtype=object)"
      ]
     },
     "execution_count": 15,
     "metadata": {},
     "output_type": "execute_result"
    }
   ],
   "source": [
    "df['Education'].unique()"
   ]
  },
  {
   "cell_type": "code",
   "execution_count": 16,
   "id": "2f3b2a6f",
   "metadata": {},
   "outputs": [
    {
     "data": {
      "text/plain": [
       "array(['tertiary', 'primary', 'secondary', nan], dtype=object)"
      ]
     },
     "execution_count": 16,
     "metadata": {},
     "output_type": "execute_result"
    }
   ],
   "source": [
    "df['Education'].unique()"
   ]
  },
  {
   "cell_type": "code",
   "execution_count": 17,
   "id": "ece44b4d",
   "metadata": {},
   "outputs": [
    {
     "data": {
      "text/plain": [
       "secondary    1988\n",
       "tertiary     1282\n",
       "primary       561\n",
       "Name: Education, dtype: int64"
      ]
     },
     "execution_count": 17,
     "metadata": {},
     "output_type": "execute_result"
    }
   ],
   "source": [
    "df['Education'].value_counts(ascending = False)"
   ]
  },
  {
   "cell_type": "code",
   "execution_count": 18,
   "id": "df36b0c3",
   "metadata": {},
   "outputs": [],
   "source": [
    "df['Education'] = df['Education'].fillna(df['Education'].mode())"
   ]
  },
  {
   "cell_type": "code",
   "execution_count": 19,
   "id": "82427790",
   "metadata": {},
   "outputs": [
    {
     "data": {
      "text/plain": [
       "array(['telephone', nan, 'cellular'], dtype=object)"
      ]
     },
     "execution_count": 19,
     "metadata": {},
     "output_type": "execute_result"
    }
   ],
   "source": [
    "df['Communication'].unique()"
   ]
  },
  {
   "cell_type": "code",
   "execution_count": 20,
   "id": "49b014da",
   "metadata": {},
   "outputs": [
    {
     "data": {
      "text/plain": [
       "cellular     2831\n",
       "telephone     267\n",
       "Name: Communication, dtype: int64"
      ]
     },
     "execution_count": 20,
     "metadata": {},
     "output_type": "execute_result"
    }
   ],
   "source": [
    "df['Communication'].value_counts(ascending = False)"
   ]
  },
  {
   "cell_type": "code",
   "execution_count": 21,
   "id": "060b5445",
   "metadata": {},
   "outputs": [],
   "source": [
    "df['Communication'] = df['Communication'].fillna('telephone')\n",
    "\n",
    "# We filled null values with 'telephone' because 'cellular' already had high number of values."
   ]
  },
  {
   "cell_type": "code",
   "execution_count": 22,
   "id": "c082a3b6",
   "metadata": {},
   "outputs": [
    {
     "data": {
      "text/plain": [
       "mid     3147\n",
       "null     574\n",
       "high     279\n",
       "Name: Balance, dtype: int64"
      ]
     },
     "execution_count": 22,
     "metadata": {},
     "output_type": "execute_result"
    }
   ],
   "source": [
    "df['Balance'] = pd.cut(df['Balance'], bins = [-4000, 0, 5000, 100000], labels = ['null', 'mid', 'high'])\n",
    "df['Balance'].value_counts(ascending = False)"
   ]
  },
  {
   "cell_type": "code",
   "execution_count": 23,
   "id": "22501091",
   "metadata": {},
   "outputs": [
    {
     "data": {
      "text/plain": [
       "normal    1685\n",
       "mid       1601\n",
       "high       714\n",
       "Name: NoOfContacts, dtype: int64"
      ]
     },
     "execution_count": 23,
     "metadata": {},
     "output_type": "execute_result"
    }
   ],
   "source": [
    "df['NoOfContacts'] = pd.cut(df['NoOfContacts'], bins = [-1, 1, 3, 50], labels = ['normal', 'mid', 'high'])\n",
    "df['NoOfContacts'].value_counts(ascending = False)"
   ]
  },
  {
   "cell_type": "code",
   "execution_count": 24,
   "id": "2315d185",
   "metadata": {},
   "outputs": [
    {
     "data": {
      "text/plain": [
       "0    3042\n",
       "1     958\n",
       "Name: PrevAttempts, dtype: int64"
      ]
     },
     "execution_count": 24,
     "metadata": {},
     "output_type": "execute_result"
    }
   ],
   "source": [
    "df['PrevAttempts'] = pd.cut(df['PrevAttempts'], bins = [-1, 0, 60], labels = [0,1])\n",
    "df['PrevAttempts'].value_counts(ascending = False)"
   ]
  },
  {
   "cell_type": "code",
   "execution_count": 25,
   "id": "a2ccb584",
   "metadata": {},
   "outputs": [
    {
     "data": {
      "text/plain": [
       "0        1\n",
       "1        3\n",
       "2        6\n",
       "3       14\n",
       "4        3\n",
       "        ..\n",
       "3995     4\n",
       "3996     2\n",
       "3997     4\n",
       "3998     2\n",
       "3999     5\n",
       "Name: duration, Length: 4000, dtype: int64"
      ]
     },
     "execution_count": 25,
     "metadata": {},
     "output_type": "execute_result"
    }
   ],
   "source": [
    "df['CallStart'] = pd.to_datetime(df['CallStart'])\n",
    "df['CallEnd'] = pd.to_datetime(df['CallEnd'])\n",
    "df['duration'] = df['CallEnd'].dt.minute-df['CallStart'].dt.minute\n",
    "df['duration']"
   ]
  },
  {
   "cell_type": "code",
   "execution_count": 26,
   "id": "8d87cafb",
   "metadata": {},
   "outputs": [
    {
     "data": {
      "text/html": [
       "<div>\n",
       "<style scoped>\n",
       "    .dataframe tbody tr th:only-of-type {\n",
       "        vertical-align: middle;\n",
       "    }\n",
       "\n",
       "    .dataframe tbody tr th {\n",
       "        vertical-align: top;\n",
       "    }\n",
       "\n",
       "    .dataframe thead th {\n",
       "        text-align: right;\n",
       "    }\n",
       "</style>\n",
       "<table border=\"1\" class=\"dataframe\">\n",
       "  <thead>\n",
       "    <tr style=\"text-align: right;\">\n",
       "      <th></th>\n",
       "      <th>Age</th>\n",
       "      <th>Default</th>\n",
       "      <th>HHInsurance</th>\n",
       "      <th>CarLoan</th>\n",
       "      <th>LastContactDay</th>\n",
       "      <th>DaysPassed</th>\n",
       "      <th>CarInsurance</th>\n",
       "      <th>duration</th>\n",
       "    </tr>\n",
       "  </thead>\n",
       "  <tbody>\n",
       "    <tr>\n",
       "      <th>count</th>\n",
       "      <td>4000.000000</td>\n",
       "      <td>4000.000000</td>\n",
       "      <td>4000.00000</td>\n",
       "      <td>4000.000000</td>\n",
       "      <td>4000.000000</td>\n",
       "      <td>4000.000000</td>\n",
       "      <td>4000.000000</td>\n",
       "      <td>4000.000000</td>\n",
       "    </tr>\n",
       "    <tr>\n",
       "      <th>mean</th>\n",
       "      <td>41.214750</td>\n",
       "      <td>0.014500</td>\n",
       "      <td>0.49275</td>\n",
       "      <td>0.133000</td>\n",
       "      <td>15.721250</td>\n",
       "      <td>48.706500</td>\n",
       "      <td>0.401000</td>\n",
       "      <td>-0.337750</td>\n",
       "    </tr>\n",
       "    <tr>\n",
       "      <th>std</th>\n",
       "      <td>11.550194</td>\n",
       "      <td>0.119555</td>\n",
       "      <td>0.50001</td>\n",
       "      <td>0.339617</td>\n",
       "      <td>8.425307</td>\n",
       "      <td>106.685385</td>\n",
       "      <td>0.490162</td>\n",
       "      <td>17.125974</td>\n",
       "    </tr>\n",
       "    <tr>\n",
       "      <th>min</th>\n",
       "      <td>18.000000</td>\n",
       "      <td>0.000000</td>\n",
       "      <td>0.00000</td>\n",
       "      <td>0.000000</td>\n",
       "      <td>1.000000</td>\n",
       "      <td>-1.000000</td>\n",
       "      <td>0.000000</td>\n",
       "      <td>-59.000000</td>\n",
       "    </tr>\n",
       "    <tr>\n",
       "      <th>25%</th>\n",
       "      <td>32.000000</td>\n",
       "      <td>0.000000</td>\n",
       "      <td>0.00000</td>\n",
       "      <td>0.000000</td>\n",
       "      <td>8.000000</td>\n",
       "      <td>-1.000000</td>\n",
       "      <td>0.000000</td>\n",
       "      <td>2.000000</td>\n",
       "    </tr>\n",
       "    <tr>\n",
       "      <th>50%</th>\n",
       "      <td>39.000000</td>\n",
       "      <td>0.000000</td>\n",
       "      <td>0.00000</td>\n",
       "      <td>0.000000</td>\n",
       "      <td>16.000000</td>\n",
       "      <td>-1.000000</td>\n",
       "      <td>0.000000</td>\n",
       "      <td>3.000000</td>\n",
       "    </tr>\n",
       "    <tr>\n",
       "      <th>75%</th>\n",
       "      <td>49.000000</td>\n",
       "      <td>0.000000</td>\n",
       "      <td>1.00000</td>\n",
       "      <td>0.000000</td>\n",
       "      <td>22.000000</td>\n",
       "      <td>-1.000000</td>\n",
       "      <td>1.000000</td>\n",
       "      <td>6.000000</td>\n",
       "    </tr>\n",
       "    <tr>\n",
       "      <th>max</th>\n",
       "      <td>95.000000</td>\n",
       "      <td>1.000000</td>\n",
       "      <td>1.00000</td>\n",
       "      <td>1.000000</td>\n",
       "      <td>31.000000</td>\n",
       "      <td>854.000000</td>\n",
       "      <td>1.000000</td>\n",
       "      <td>39.000000</td>\n",
       "    </tr>\n",
       "  </tbody>\n",
       "</table>\n",
       "</div>"
      ],
      "text/plain": [
       "               Age      Default  HHInsurance      CarLoan  LastContactDay  \\\n",
       "count  4000.000000  4000.000000   4000.00000  4000.000000     4000.000000   \n",
       "mean     41.214750     0.014500      0.49275     0.133000       15.721250   \n",
       "std      11.550194     0.119555      0.50001     0.339617        8.425307   \n",
       "min      18.000000     0.000000      0.00000     0.000000        1.000000   \n",
       "25%      32.000000     0.000000      0.00000     0.000000        8.000000   \n",
       "50%      39.000000     0.000000      0.00000     0.000000       16.000000   \n",
       "75%      49.000000     0.000000      1.00000     0.000000       22.000000   \n",
       "max      95.000000     1.000000      1.00000     1.000000       31.000000   \n",
       "\n",
       "        DaysPassed  CarInsurance     duration  \n",
       "count  4000.000000   4000.000000  4000.000000  \n",
       "mean     48.706500      0.401000    -0.337750  \n",
       "std     106.685385      0.490162    17.125974  \n",
       "min      -1.000000      0.000000   -59.000000  \n",
       "25%      -1.000000      0.000000     2.000000  \n",
       "50%      -1.000000      0.000000     3.000000  \n",
       "75%      -1.000000      1.000000     6.000000  \n",
       "max     854.000000      1.000000    39.000000  "
      ]
     },
     "execution_count": 26,
     "metadata": {},
     "output_type": "execute_result"
    }
   ],
   "source": [
    "df.describe()"
   ]
  },
  {
   "cell_type": "code",
   "execution_count": 27,
   "id": "ea70a8fb",
   "metadata": {},
   "outputs": [
    {
     "name": "stdout",
     "output_type": "stream",
     "text": [
      "<class 'pandas.core.frame.DataFrame'>\n",
      "RangeIndex: 4000 entries, 0 to 3999\n",
      "Data columns (total 18 columns):\n",
      " #   Column            Non-Null Count  Dtype         \n",
      "---  ------            --------------  -----         \n",
      " 0   Age               4000 non-null   int64         \n",
      " 1   Job               3981 non-null   object        \n",
      " 2   Marital           4000 non-null   object        \n",
      " 3   Education         3831 non-null   object        \n",
      " 4   Default           4000 non-null   int64         \n",
      " 5   Balance           4000 non-null   category      \n",
      " 6   HHInsurance       4000 non-null   int64         \n",
      " 7   CarLoan           4000 non-null   int64         \n",
      " 8   Communication     4000 non-null   object        \n",
      " 9   LastContactDay    4000 non-null   int64         \n",
      " 10  LastContactMonth  4000 non-null   object        \n",
      " 11  NoOfContacts      4000 non-null   category      \n",
      " 12  DaysPassed        4000 non-null   int64         \n",
      " 13  PrevAttempts      4000 non-null   category      \n",
      " 14  CallStart         4000 non-null   datetime64[ns]\n",
      " 15  CallEnd           4000 non-null   datetime64[ns]\n",
      " 16  CarInsurance      4000 non-null   int64         \n",
      " 17  duration          4000 non-null   int64         \n",
      "dtypes: category(3), datetime64[ns](2), int64(8), object(5)\n",
      "memory usage: 481.0+ KB\n"
     ]
    }
   ],
   "source": [
    "df.info()"
   ]
  },
  {
   "cell_type": "markdown",
   "id": "6c1f658a",
   "metadata": {},
   "source": [
    "# EDA - Checking Outliers"
   ]
  },
  {
   "cell_type": "code",
   "execution_count": 28,
   "id": "eab87ac2",
   "metadata": {},
   "outputs": [
    {
     "name": "stderr",
     "output_type": "stream",
     "text": [
      "C:\\ProgramData\\Anaconda3\\lib\\site-packages\\seaborn\\_decorators.py:36: FutureWarning: Pass the following variable as a keyword arg: x. From version 0.12, the only valid positional argument will be `data`, and passing other arguments without an explicit keyword will result in an error or misinterpretation.\n",
      "  warnings.warn(\n"
     ]
    },
    {
     "data": {
      "text/plain": [
       "<AxesSubplot:xlabel='Age'>"
      ]
     },
     "execution_count": 28,
     "metadata": {},
     "output_type": "execute_result"
    },
    {
     "data": {
      "image/png": "[encoded data removed]",
      "text/plain": [
       "<Figure size 640x480 with 1 Axes>"
      ]
     },
     "metadata": {},
     "output_type": "display_data"
    }
   ],
   "source": [
    "# Age:\n",
    "\n",
    "sns.boxplot(df['Age'])"
   ]
  },
  {
   "cell_type": "code",
   "execution_count": 29,
   "id": "ccc023d8",
   "metadata": {},
   "outputs": [
    {
     "name": "stdout",
     "output_type": "stream",
     "text": [
      "74.5\n",
      "23.5\n"
     ]
    }
   ],
   "source": [
    "Q3 = df['Age'].quantile(.75)\n",
    "Q1 = df['Age'].quantile(.25)\n",
    "IQR = Q3 - Q1\n",
    "UL = Q3 + 1.5*(IQR)\n",
    "LL = Q3 - 1.5*(IQR)\n",
    "print(UL)\n",
    "print(LL)"
   ]
  },
  {
   "cell_type": "code",
   "execution_count": 30,
   "id": "f5521e11",
   "metadata": {},
   "outputs": [],
   "source": [
    "import numpy as np"
   ]
  },
  {
   "cell_type": "code",
   "execution_count": 31,
   "id": "d7dc3252",
   "metadata": {},
   "outputs": [],
   "source": [
    "df['Age'] = np.where(df['Age'] > 74.5, 74.5, np.where(df['Age'] < 23.5, 23.5, df['Age']))"
   ]
  },
  {
   "cell_type": "code",
   "execution_count": 32,
   "id": "f9d1546e",
   "metadata": {},
   "outputs": [
    {
     "name": "stderr",
     "output_type": "stream",
     "text": [
      "C:\\ProgramData\\Anaconda3\\lib\\site-packages\\seaborn\\_decorators.py:36: FutureWarning: Pass the following variable as a keyword arg: x. From version 0.12, the only valid positional argument will be `data`, and passing other arguments without an explicit keyword will result in an error or misinterpretation.\n",
      "  warnings.warn(\n"
     ]
    },
    {
     "data": {
      "text/plain": [
       "<AxesSubplot:xlabel='Age'>"
      ]
     },
     "execution_count": 32,
     "metadata": {},
     "output_type": "execute_result"
    },
    {
     "data": {
      "image/png": "[encoded data removed]",
      "text/plain": [
       "<Figure size 640x480 with 1 Axes>"
      ]
     },
     "metadata": {},
     "output_type": "display_data"
    }
   ],
   "source": [
    "sns.boxplot(df['Age'])"
   ]
  },
  {
   "cell_type": "code",
   "execution_count": 33,
   "id": "59c70c54",
   "metadata": {},
   "outputs": [
    {
     "data": {
      "text/plain": [
       "<AxesSubplot:ylabel='LastContactDay'>"
      ]
     },
     "execution_count": 33,
     "metadata": {},
     "output_type": "execute_result"
    },
    {
     "data": {
      "image/png": "[encoded data removed]",
      "text/plain": [
       "<Figure size 640x480 with 1 Axes>"
      ]
     },
     "metadata": {},
     "output_type": "display_data"
    }
   ],
   "source": [
    "# LastContactDay\n",
    "\n",
    "sns.boxplot(data = df, y = 'LastContactDay', color = 'yellow')"
   ]
  },
  {
   "cell_type": "code",
   "execution_count": 34,
   "id": "0fe1cf7b",
   "metadata": {},
   "outputs": [
    {
     "name": "stderr",
     "output_type": "stream",
     "text": [
      "C:\\ProgramData\\Anaconda3\\lib\\site-packages\\seaborn\\_decorators.py:36: FutureWarning: Pass the following variable as a keyword arg: x. From version 0.12, the only valid positional argument will be `data`, and passing other arguments without an explicit keyword will result in an error or misinterpretation.\n",
      "  warnings.warn(\n"
     ]
    },
    {
     "data": {
      "text/plain": [
       "<AxesSubplot:xlabel='DaysPassed'>"
      ]
     },
     "execution_count": 34,
     "metadata": {},
     "output_type": "execute_result"
    },
    {
     "data": {
      "image/png": "[encoded data removed]",
      "text/plain": [
       "<Figure size 640x480 with 1 Axes>"
      ]
     },
     "metadata": {},
     "output_type": "display_data"
    }
   ],
   "source": [
    "# DaysPassed\n",
    "\n",
    "sns.boxplot(df['DaysPassed'])"
   ]
  },
  {
   "cell_type": "code",
   "execution_count": 35,
   "id": "0babf009",
   "metadata": {},
   "outputs": [
    {
     "name": "stdout",
     "output_type": "stream",
     "text": [
      "-1.0\n",
      "-1.0\n"
     ]
    }
   ],
   "source": [
    "Q3 = df['DaysPassed'].quantile(.75)\n",
    "Q1 = df['DaysPassed'].quantile(.25)\n",
    "IQR = Q3 - Q1\n",
    "UL = Q3 + 1.5*(IQR)\n",
    "LL = Q3 - 1.5*(IQR)\n",
    "print(UL)\n",
    "print(LL)"
   ]
  },
  {
   "cell_type": "code",
   "execution_count": 36,
   "id": "6603c2f5",
   "metadata": {},
   "outputs": [],
   "source": [
    "df['DaysPassed'] = np.where(df['DaysPassed'] > -1, -1, np.where(df['DaysPassed'] < -1, -1, df['DaysPassed']))"
   ]
  },
  {
   "cell_type": "code",
   "execution_count": 37,
   "id": "50b133b1",
   "metadata": {},
   "outputs": [
    {
     "name": "stderr",
     "output_type": "stream",
     "text": [
      "C:\\ProgramData\\Anaconda3\\lib\\site-packages\\seaborn\\_decorators.py:36: FutureWarning: Pass the following variable as a keyword arg: x. From version 0.12, the only valid positional argument will be `data`, and passing other arguments without an explicit keyword will result in an error or misinterpretation.\n",
      "  warnings.warn(\n"
     ]
    },
    {
     "data": {
      "text/plain": [
       "<AxesSubplot:xlabel='duration'>"
      ]
     },
     "execution_count": 37,
     "metadata": {},
     "output_type": "execute_result"
    },
    {
     "data": {
      "image/png": "[encoded data removed]",
      "text/plain": [
       "<Figure size 640x480 with 1 Axes>"
      ]
     },
     "metadata": {},
     "output_type": "display_data"
    }
   ],
   "source": [
    "# Duration\n",
    "\n",
    "sns.boxplot(df['duration'])"
   ]
  },
  {
   "cell_type": "code",
   "execution_count": 38,
   "id": "fff74c3b",
   "metadata": {},
   "outputs": [
    {
     "name": "stdout",
     "output_type": "stream",
     "text": [
      "12.0\n",
      "0.0\n"
     ]
    }
   ],
   "source": [
    "Q3 = df['duration'].quantile(.75)\n",
    "Q1 = df['duration'].quantile(.25)\n",
    "IQR = Q3 - Q1\n",
    "UL = Q3 + 1.5*(IQR)\n",
    "LL = Q3 - 1.5*(IQR)\n",
    "print(UL)\n",
    "print(LL)"
   ]
  },
  {
   "cell_type": "code",
   "execution_count": 39,
   "id": "e9917a4a",
   "metadata": {},
   "outputs": [],
   "source": [
    "df['duration'] = np.where(df['duration'] > 12, 12, np.where(df['duration'] < 0, 0, df['duration']))"
   ]
  },
  {
   "cell_type": "code",
   "execution_count": 40,
   "id": "0593dad5",
   "metadata": {},
   "outputs": [
    {
     "name": "stderr",
     "output_type": "stream",
     "text": [
      "C:\\ProgramData\\Anaconda3\\lib\\site-packages\\seaborn\\_decorators.py:36: FutureWarning: Pass the following variable as a keyword arg: x. From version 0.12, the only valid positional argument will be `data`, and passing other arguments without an explicit keyword will result in an error or misinterpretation.\n",
      "  warnings.warn(\n"
     ]
    },
    {
     "data": {
      "text/plain": [
       "<AxesSubplot:xlabel='duration'>"
      ]
     },
     "execution_count": 40,
     "metadata": {},
     "output_type": "execute_result"
    },
    {
     "data": {
      "image/png": "[encoded data removed]",
      "text/plain": [
       "<Figure size 640x480 with 1 Axes>"
      ]
     },
     "metadata": {},
     "output_type": "display_data"
    }
   ],
   "source": [
    "sns.boxplot(df['duration'])"
   ]
  },
  {
   "cell_type": "markdown",
   "id": "cb38f9d1",
   "metadata": {},
   "source": [
    "# Checking Correlation"
   ]
  },
  {
   "cell_type": "code",
   "execution_count": 41,
   "id": "55d7778b",
   "metadata": {},
   "outputs": [
    {
     "data": {
      "text/plain": [
       "Age               0.037807\n",
       "Default          -0.039506\n",
       "HHInsurance      -0.203419\n",
       "CarLoan          -0.092131\n",
       "LastContactDay   -0.061271\n",
       "DaysPassed             NaN\n",
       "CarInsurance      1.000000\n",
       "duration          0.375080\n",
       "Name: CarInsurance, dtype: float64"
      ]
     },
     "execution_count": 41,
     "metadata": {},
     "output_type": "execute_result"
    }
   ],
   "source": [
    "# As our target column is 'Car Insurance', we will check correlation of this column with other columnd\n",
    "\n",
    "df.corr()['CarInsurance']\n",
    "\n",
    "# The higher the correlation, the more important that column will be"
   ]
  },
  {
   "cell_type": "code",
   "execution_count": 42,
   "id": "e2194d36",
   "metadata": {},
   "outputs": [],
   "source": [
    "df.drop(['CallStart','CallEnd','Default','LastContactMonth'],axis=1,inplace=True)\n",
    "\n",
    "# In default we have one value so we will drop\n",
    "\n",
    "df['Balance'] = df['Balance'].astype('object')\n",
    "df['NoOfContacts'] = df['NoOfContacts'].astype('object')\n",
    "df['DaysPassed'] = df['DaysPassed'].astype('object')\n",
    "df['PrevAttempts'] = df['PrevAttempts'].astype(int)\n"
   ]
  },
  {
   "cell_type": "markdown",
   "id": "9f9f6cd2",
   "metadata": {},
   "source": [
    "# Creating Dummies"
   ]
  },
  {
   "cell_type": "code",
   "execution_count": 43,
   "id": "bf556815",
   "metadata": {},
   "outputs": [],
   "source": [
    "df_cat = df.select_dtypes(include = 'object')\n",
    "df_num = df.select_dtypes(exclude = 'object')"
   ]
  },
  {
   "cell_type": "code",
   "execution_count": 44,
   "id": "fd565cbc",
   "metadata": {},
   "outputs": [
    {
     "name": "stderr",
     "output_type": "stream",
     "text": [
      "C:\\ProgramData\\Anaconda3\\lib\\site-packages\\pandas\\core\\algorithms.py:798: FutureWarning: In a future version, the Index constructor will not infer numeric dtypes when passed object-dtype sequences (matching Series behavior)\n",
      "  uniques = Index(uniques)\n"
     ]
    },
    {
     "data": {
      "text/html": [
       "<div>\n",
       "<style scoped>\n",
       "    .dataframe tbody tr th:only-of-type {\n",
       "        vertical-align: middle;\n",
       "    }\n",
       "\n",
       "    .dataframe tbody tr th {\n",
       "        vertical-align: top;\n",
       "    }\n",
       "\n",
       "    .dataframe thead th {\n",
       "        text-align: right;\n",
       "    }\n",
       "</style>\n",
       "<table border=\"1\" class=\"dataframe\">\n",
       "  <thead>\n",
       "    <tr style=\"text-align: right;\">\n",
       "      <th></th>\n",
       "      <th>Job_blue-collar</th>\n",
       "      <th>Job_management</th>\n",
       "      <th>Job_self-employed</th>\n",
       "      <th>Job_services</th>\n",
       "      <th>Job_unemployed</th>\n",
       "      <th>Marital_married</th>\n",
       "      <th>Marital_single</th>\n",
       "      <th>Education_secondary</th>\n",
       "      <th>Education_tertiary</th>\n",
       "      <th>Balance_mid</th>\n",
       "      <th>Balance_null</th>\n",
       "      <th>Communication_telephone</th>\n",
       "      <th>NoOfContacts_mid</th>\n",
       "      <th>NoOfContacts_normal</th>\n",
       "    </tr>\n",
       "  </thead>\n",
       "  <tbody>\n",
       "    <tr>\n",
       "      <th>0</th>\n",
       "      <td>0</td>\n",
       "      <td>1</td>\n",
       "      <td>0</td>\n",
       "      <td>0</td>\n",
       "      <td>0</td>\n",
       "      <td>0</td>\n",
       "      <td>1</td>\n",
       "      <td>0</td>\n",
       "      <td>1</td>\n",
       "      <td>1</td>\n",
       "      <td>0</td>\n",
       "      <td>1</td>\n",
       "      <td>1</td>\n",
       "      <td>0</td>\n",
       "    </tr>\n",
       "    <tr>\n",
       "      <th>1</th>\n",
       "      <td>1</td>\n",
       "      <td>0</td>\n",
       "      <td>0</td>\n",
       "      <td>0</td>\n",
       "      <td>0</td>\n",
       "      <td>1</td>\n",
       "      <td>0</td>\n",
       "      <td>0</td>\n",
       "      <td>0</td>\n",
       "      <td>1</td>\n",
       "      <td>0</td>\n",
       "      <td>1</td>\n",
       "      <td>0</td>\n",
       "      <td>0</td>\n",
       "    </tr>\n",
       "    <tr>\n",
       "      <th>2</th>\n",
       "      <td>0</td>\n",
       "      <td>1</td>\n",
       "      <td>0</td>\n",
       "      <td>0</td>\n",
       "      <td>0</td>\n",
       "      <td>0</td>\n",
       "      <td>1</td>\n",
       "      <td>0</td>\n",
       "      <td>1</td>\n",
       "      <td>1</td>\n",
       "      <td>0</td>\n",
       "      <td>0</td>\n",
       "      <td>0</td>\n",
       "      <td>1</td>\n",
       "    </tr>\n",
       "    <tr>\n",
       "      <th>3</th>\n",
       "      <td>0</td>\n",
       "      <td>0</td>\n",
       "      <td>0</td>\n",
       "      <td>0</td>\n",
       "      <td>1</td>\n",
       "      <td>0</td>\n",
       "      <td>1</td>\n",
       "      <td>0</td>\n",
       "      <td>0</td>\n",
       "      <td>1</td>\n",
       "      <td>0</td>\n",
       "      <td>0</td>\n",
       "      <td>1</td>\n",
       "      <td>0</td>\n",
       "    </tr>\n",
       "    <tr>\n",
       "      <th>4</th>\n",
       "      <td>0</td>\n",
       "      <td>1</td>\n",
       "      <td>0</td>\n",
       "      <td>0</td>\n",
       "      <td>0</td>\n",
       "      <td>1</td>\n",
       "      <td>0</td>\n",
       "      <td>0</td>\n",
       "      <td>1</td>\n",
       "      <td>1</td>\n",
       "      <td>0</td>\n",
       "      <td>0</td>\n",
       "      <td>0</td>\n",
       "      <td>1</td>\n",
       "    </tr>\n",
       "    <tr>\n",
       "      <th>...</th>\n",
       "      <td>...</td>\n",
       "      <td>...</td>\n",
       "      <td>...</td>\n",
       "      <td>...</td>\n",
       "      <td>...</td>\n",
       "      <td>...</td>\n",
       "      <td>...</td>\n",
       "      <td>...</td>\n",
       "      <td>...</td>\n",
       "      <td>...</td>\n",
       "      <td>...</td>\n",
       "      <td>...</td>\n",
       "      <td>...</td>\n",
       "      <td>...</td>\n",
       "    </tr>\n",
       "    <tr>\n",
       "      <th>3995</th>\n",
       "      <td>0</td>\n",
       "      <td>0</td>\n",
       "      <td>0</td>\n",
       "      <td>1</td>\n",
       "      <td>0</td>\n",
       "      <td>0</td>\n",
       "      <td>1</td>\n",
       "      <td>0</td>\n",
       "      <td>1</td>\n",
       "      <td>0</td>\n",
       "      <td>1</td>\n",
       "      <td>0</td>\n",
       "      <td>0</td>\n",
       "      <td>1</td>\n",
       "    </tr>\n",
       "    <tr>\n",
       "      <th>3996</th>\n",
       "      <td>0</td>\n",
       "      <td>0</td>\n",
       "      <td>0</td>\n",
       "      <td>0</td>\n",
       "      <td>0</td>\n",
       "      <td>0</td>\n",
       "      <td>0</td>\n",
       "      <td>1</td>\n",
       "      <td>0</td>\n",
       "      <td>1</td>\n",
       "      <td>0</td>\n",
       "      <td>0</td>\n",
       "      <td>0</td>\n",
       "      <td>0</td>\n",
       "    </tr>\n",
       "    <tr>\n",
       "      <th>3997</th>\n",
       "      <td>0</td>\n",
       "      <td>0</td>\n",
       "      <td>0</td>\n",
       "      <td>0</td>\n",
       "      <td>0</td>\n",
       "      <td>0</td>\n",
       "      <td>1</td>\n",
       "      <td>1</td>\n",
       "      <td>0</td>\n",
       "      <td>0</td>\n",
       "      <td>1</td>\n",
       "      <td>0</td>\n",
       "      <td>0</td>\n",
       "      <td>1</td>\n",
       "    </tr>\n",
       "    <tr>\n",
       "      <th>3998</th>\n",
       "      <td>0</td>\n",
       "      <td>0</td>\n",
       "      <td>1</td>\n",
       "      <td>0</td>\n",
       "      <td>0</td>\n",
       "      <td>0</td>\n",
       "      <td>1</td>\n",
       "      <td>0</td>\n",
       "      <td>1</td>\n",
       "      <td>1</td>\n",
       "      <td>0</td>\n",
       "      <td>0</td>\n",
       "      <td>0</td>\n",
       "      <td>1</td>\n",
       "    </tr>\n",
       "    <tr>\n",
       "      <th>3999</th>\n",
       "      <td>0</td>\n",
       "      <td>0</td>\n",
       "      <td>0</td>\n",
       "      <td>1</td>\n",
       "      <td>0</td>\n",
       "      <td>1</td>\n",
       "      <td>0</td>\n",
       "      <td>0</td>\n",
       "      <td>0</td>\n",
       "      <td>1</td>\n",
       "      <td>0</td>\n",
       "      <td>1</td>\n",
       "      <td>1</td>\n",
       "      <td>0</td>\n",
       "    </tr>\n",
       "  </tbody>\n",
       "</table>\n",
       "<p>4000 rows × 14 columns</p>\n",
       "</div>"
      ],
      "text/plain": [
       "      Job_blue-collar  Job_management  Job_self-employed  Job_services  \\\n",
       "0                   0               1                  0             0   \n",
       "1                   1               0                  0             0   \n",
       "2                   0               1                  0             0   \n",
       "3                   0               0                  0             0   \n",
       "4                   0               1                  0             0   \n",
       "...               ...             ...                ...           ...   \n",
       "3995                0               0                  0             1   \n",
       "3996                0               0                  0             0   \n",
       "3997                0               0                  0             0   \n",
       "3998                0               0                  1             0   \n",
       "3999                0               0                  0             1   \n",
       "\n",
       "      Job_unemployed  Marital_married  Marital_single  Education_secondary  \\\n",
       "0                  0                0               1                    0   \n",
       "1                  0                1               0                    0   \n",
       "2                  0                0               1                    0   \n",
       "3                  1                0               1                    0   \n",
       "4                  0                1               0                    0   \n",
       "...              ...              ...             ...                  ...   \n",
       "3995               0                0               1                    0   \n",
       "3996               0                0               0                    1   \n",
       "3997               0                0               1                    1   \n",
       "3998               0                0               1                    0   \n",
       "3999               0                1               0                    0   \n",
       "\n",
       "      Education_tertiary  Balance_mid  Balance_null  Communication_telephone  \\\n",
       "0                      1            1             0                        1   \n",
       "1                      0            1             0                        1   \n",
       "2                      1            1             0                        0   \n",
       "3                      0            1             0                        0   \n",
       "4                      1            1             0                        0   \n",
       "...                  ...          ...           ...                      ...   \n",
       "3995                   1            0             1                        0   \n",
       "3996                   0            1             0                        0   \n",
       "3997                   0            0             1                        0   \n",
       "3998                   1            1             0                        0   \n",
       "3999                   0            1             0                        1   \n",
       "\n",
       "      NoOfContacts_mid  NoOfContacts_normal  \n",
       "0                    1                    0  \n",
       "1                    0                    0  \n",
       "2                    0                    1  \n",
       "3                    1                    0  \n",
       "4                    0                    1  \n",
       "...                ...                  ...  \n",
       "3995                 0                    1  \n",
       "3996                 0                    0  \n",
       "3997                 0                    1  \n",
       "3998                 0                    1  \n",
       "3999                 1                    0  \n",
       "\n",
       "[4000 rows x 14 columns]"
      ]
     },
     "execution_count": 44,
     "metadata": {},
     "output_type": "execute_result"
    }
   ],
   "source": [
    "df_dummy = pd.get_dummies(df_cat, drop_first=True)\n",
    "df_dummy"
   ]
  },
  {
   "cell_type": "code",
   "execution_count": 45,
   "id": "157e353a",
   "metadata": {},
   "outputs": [
    {
     "data": {
      "text/plain": [
       "(4000, 21)"
      ]
     },
     "execution_count": 45,
     "metadata": {},
     "output_type": "execute_result"
    }
   ],
   "source": [
    "data = pd.concat([df_dummy, df_num], axis = 1)\n",
    "data.shape"
   ]
  },
  {
   "cell_type": "markdown",
   "id": "ca822bec",
   "metadata": {},
   "source": [
    "# Train_Test_Split and Logistic Regression Model"
   ]
  },
  {
   "cell_type": "code",
   "execution_count": 46,
   "id": "9308ff95",
   "metadata": {},
   "outputs": [],
   "source": [
    "x = data.drop(['CarInsurance'], axis = 1)\n",
    "y = data['CarInsurance']"
   ]
  },
  {
   "cell_type": "code",
   "execution_count": 47,
   "id": "07c668de",
   "metadata": {},
   "outputs": [],
   "source": [
    "from sklearn.model_selection import train_test_split\n",
    "x_train, x_test, y_train, y_test = train_test_split(x, y, train_size = 0.7, random_state = 10)"
   ]
  },
  {
   "cell_type": "code",
   "execution_count": 48,
   "id": "1ea349e7",
   "metadata": {},
   "outputs": [
    {
     "name": "stderr",
     "output_type": "stream",
     "text": [
      "C:\\ProgramData\\Anaconda3\\lib\\site-packages\\sklearn\\linear_model\\_logistic.py:814: ConvergenceWarning: lbfgs failed to converge (status=1):\n",
      "STOP: TOTAL NO. of ITERATIONS REACHED LIMIT.\n",
      "\n",
      "Increase the number of iterations (max_iter) or scale the data as shown in:\n",
      "    https://scikit-learn.org/stable/modules/preprocessing.html\n",
      "Please also refer to the documentation for alternative solver options:\n",
      "    https://scikit-learn.org/stable/modules/linear_model.html#logistic-regression\n",
      "  n_iter_i = _check_optimize_result(\n"
     ]
    }
   ],
   "source": [
    "from sklearn.linear_model import LogisticRegression\n",
    "lr = LogisticRegression()\n",
    "lr.fit(x_train, y_train)\n",
    "y_pred = lr.predict(x_test)"
   ]
  },
  {
   "cell_type": "code",
   "execution_count": 49,
   "id": "328b6846",
   "metadata": {},
   "outputs": [
    {
     "data": {
      "text/plain": [
       "0.7541666666666667"
      ]
     },
     "execution_count": 49,
     "metadata": {},
     "output_type": "execute_result"
    }
   ],
   "source": [
    "from sklearn.metrics import accuracy_score, f1_score, precision_score, recall_score, roc_auc_score\n",
    "accuracy = accuracy_score(y_test,y_pred)\n",
    "f1_score(y_test,y_pred)\n",
    "accuracy\n",
    "\n",
    "# This is accuracy of unscaled data. Next we will scale it using StandardScaler"
   ]
  },
  {
   "cell_type": "code",
   "execution_count": 50,
   "id": "eba63616",
   "metadata": {},
   "outputs": [],
   "source": [
    "# Scaling using StandardScaler\n",
    "\n",
    "from sklearn.preprocessing  import StandardScaler\n",
    "sc = StandardScaler()\n",
    "x_train2 = sc.fit_transform(x_train)\n",
    "x_test2 = sc.transform(x_test)\n",
    "lr = LogisticRegression()\n",
    "lr.fit(x_train2,y_train)\n",
    "y_pred1 = lr.predict(x_test2)"
   ]
  },
  {
   "cell_type": "code",
   "execution_count": 51,
   "id": "763412d1",
   "metadata": {},
   "outputs": [
    {
     "data": {
      "text/plain": [
       "array([0, 1, 0, ..., 0, 1, 0], dtype=int64)"
      ]
     },
     "execution_count": 51,
     "metadata": {},
     "output_type": "execute_result"
    }
   ],
   "source": [
    "y_pred1\n",
    "\n",
    "# Our predicted values (scaled)"
   ]
  },
  {
   "cell_type": "code",
   "execution_count": 52,
   "id": "a2d1ce53",
   "metadata": {},
   "outputs": [
    {
     "name": "stdout",
     "output_type": "stream",
     "text": [
      "Accuracy =  0.7558333333333334\n",
      "F1 Score =  0.6636050516647533\n",
      "Precision Score =  0.7083333333333334\n"
     ]
    }
   ],
   "source": [
    "# Accuracy and F1 score of scaled model\n",
    "\n",
    "f1 = f1_score(y_test,y_pred1)\n",
    "precision = precision_score(y_test, y_pred1)\n",
    "accuracy = accuracy_score(y_test,y_pred1)\n",
    "print('Accuracy = ',accuracy)\n",
    "print('F1 Score = ', f1)\n",
    "print('Precision Score = ', precision)"
   ]
  },
  {
   "cell_type": "code",
   "execution_count": 53,
   "id": "53a763ba",
   "metadata": {},
   "outputs": [
    {
     "name": "stdout",
     "output_type": "stream",
     "text": [
      "from sklearn.model_selection import KFold -> Cross-validation is used in real-life settings, especially when working with imbalanced datasets. Cross-validation techniques such as 'KFold' are also useful for hyperparameter tuning, which involves selecting the optimal set of hyperparameters for a given model. By using cross-validation to evaluate the performance of different hyperparameter values on different folds of the data, we can obtain a more reliable estimate of the optimal hyperparameters for the model.\n"
     ]
    }
   ],
   "source": [
    "print(\"from sklearn.model_selection import KFold -> Cross-validation is used in real-life settings, especially when working with imbalanced datasets. Cross-validation techniques such as 'KFold' are also useful for hyperparameter tuning, which involves selecting the optimal set of hyperparameters for a given model. By using cross-validation to evaluate the performance of different hyperparameter values on different folds of the data, we can obtain a more reliable estimate of the optimal hyperparameters for the model.\")"
   ]
  }
 ],
 "metadata": {
  "kernelspec": {
   "display_name": "Python 3 (ipykernel)",
   "language": "python",
   "name": "python3"
  },
  "language_info": {
   "codemirror_mode": {
    "name": "ipython",
    "version": 3
   },
   "file_extension": ".py",
   "mimetype": "text/x-python",
   "name": "python",
   "nbconvert_exporter": "python",
   "pygments_lexer": "ipython3",
   "version": "3.9.13"
  }
 },
 "nbformat": 4,
 "nbformat_minor": 5
}
